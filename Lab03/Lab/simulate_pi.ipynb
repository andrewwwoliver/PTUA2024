{
 "cells": [
  {
   "cell_type": "markdown",
   "metadata": {
    "deletable": true,
    "editable": true
   },
   "source": [
    "# Simulating $\\pi$"
   ]
  },
  {
   "cell_type": "markdown",
   "metadata": {
    "deletable": true,
    "editable": true
   },
   "source": [
    "The area of a circle $C$ is given as $|C| = \\pi r^2$ with $r$ as the radius.\n",
    "\n",
    "A square $S$ has area $|S| = w^2$ where $w$ is the length of a side of the square.\n",
    "\n",
    "If we put a circle with radius $r$ inside of a square with edge $w=2r$ then the ratio of the areas is:\n",
    "\n",
    "$$ratio = \\frac{|C|}{|S|} = \\frac{\\pi r^2}{w^2} = \\frac{\\pi r^2}{(2r)^2}= \\frac{\\pi r^2}{4r^2} = \\frac{\\pi}{4} $$\n",
    "\n",
    "Thus if we multiply the ratio of the areas by 4 we have a formula for $pi$:\n",
    "$$ \\pi = 4 ratio$$ \n",
    "or\n",
    "$$ \\pi = 4\\frac{|C|}{|S|}$$\n",
    "\n"
   ]
  },
  {
   "cell_type": "markdown",
   "metadata": {
    "deletable": true,
    "editable": true
   },
   "source": [
    "We can use this relationship to simulate the ratio of the areas to generate an estimate of $\\pi$.\n",
    "\n",
    "Basically we take uniform random draws of an $x$ and $y$ coordinate for a point and look at the share of many such points that fall within the circle of all those that are in the square.\n",
    "\n",
    "We want to get within $p=0.00001$ of the value of $\\pi$ that is reported in Python and we are curious as to how many points we have to draw to achieve this level of accuracy."
   ]
  },
  {
   "cell_type": "code",
   "execution_count": 3,
   "metadata": {
    "collapsed": false,
    "deletable": true,
    "editable": true,
    "jupyter": {
     "outputs_hidden": false
    },
    "tags": []
   },
   "outputs": [],
   "source": [
    "import random\n",
    "import math\n",
    "import matplotlib.pyplot as plt"
   ]
  },
  {
   "cell_type": "code",
   "execution_count": 5,
   "metadata": {
    "collapsed": false,
    "deletable": true,
    "editable": true,
    "jupyter": {
     "outputs_hidden": false
    },
    "tags": []
   },
   "outputs": [],
   "source": [
    "pi = math.pi # our benchmark that we want to estimate using simulation"
   ]
  },
  {
   "cell_type": "code",
   "execution_count": 7,
   "metadata": {
    "collapsed": false,
    "deletable": true,
    "editable": true,
    "jupyter": {
     "outputs_hidden": false
    },
    "tags": []
   },
   "outputs": [
    {
     "data": {
      "text/plain": [
       "3.141592653589793"
      ]
     },
     "execution_count": 7,
     "metadata": {},
     "output_type": "execute_result"
    }
   ],
   "source": [
    "pi"
   ]
  },
  {
   "cell_type": "markdown",
   "metadata": {},
   "source": [
    "## random.random()\n",
    "Return the next random floating point number in the range [0.0, 1.0).\n",
    "\n",
    "https://docs.python.org/3/library/random.html (learn to check function documents is very important)"
   ]
  },
  {
   "cell_type": "code",
   "execution_count": 51,
   "metadata": {
    "collapsed": false,
    "deletable": true,
    "editable": true,
    "jupyter": {
     "outputs_hidden": false
    },
    "tags": []
   },
   "outputs": [
    {
     "name": "stdout",
     "output_type": "stream",
     "text": [
      "Draws needed:  20223\n"
     ]
    }
   ],
   "source": [
    "n = 0 # number of points falling in the unit circle\n",
    "d = 0 # number of points falling in the unit square\n",
    "simulating = True # use as a sentinel\n",
    "while simulating:\n",
    "    x = random.random()\n",
    "    y = random.random()\n",
    "    if x**2 + y**2 <= 1.0:\n",
    "        n += 1\n",
    "    d += 1\n",
    "    ratio = 4 * n * 1./d\n",
    "#    print(ratio)\n",
    "    if abs(ratio-pi) / pi <= 0.00001:\n",
    "        print(\"Draws needed: \", d)\n",
    "        break"
   ]
  },
  {
   "cell_type": "code",
   "execution_count": 63,
   "metadata": {
    "collapsed": false,
    "deletable": true,
    "editable": true,
    "jupyter": {
     "outputs_hidden": false
    },
    "tags": []
   },
   "outputs": [
    {
     "name": "stdout",
     "output_type": "stream",
     "text": [
      "Draws needed:  1137\n"
     ]
    }
   ],
   "source": [
    "n = 0\n",
    "d = 0\n",
    "ratios = []\n",
    "xs = []\n",
    "ys = []\n",
    "simulating = True # use as a sentinel\n",
    "while simulating:\n",
    "    x = random.random()\n",
    "    y = random.random()\n",
    "    xs.append(x)\n",
    "    ys.append(y)\n",
    "    if x**2 + y**2 <= 1.0:\n",
    "        n += 1\n",
    "    d += 1\n",
    "    ratio = 4 * n * 1./d\n",
    "    \n",
    "    # print(ratio)\n",
    "    ratios.append(ratio)\n",
    "    if abs(ratio-pi) / pi <= 0.00001:\n",
    "        print(\"Draws needed: \", d)\n",
    "        break"
   ]
  },
  {
   "cell_type": "code",
   "execution_count": 77,
   "metadata": {
    "tags": []
   },
   "outputs": [
    {
     "name": "stdin",
     "output_type": "stream",
     "text": [
      "Enter convergence criterion (% difference):  0.01\n",
      "Enter draw limit:  100000\n"
     ]
    },
    {
     "name": "stdout",
     "output_type": "stream",
     "text": [
      "Convergence reached at 3900 simulations with Pi ≈ 3.1415384615384614\n"
     ]
    }
   ],
   "source": [
    "import random\n",
    "\n",
    "def monte_carlo_pi(convergence_criterion, draw_limit):\n",
    "    n = 0  # number of points falling in the unit circle\n",
    "    d = 0  # number of points falling in the unit square\n",
    "    simulations = 0  # counter for the number of simulations\n",
    "\n",
    "    while simulations < draw_limit:\n",
    "        x = random.random()\n",
    "        y = random.random()\n",
    "\n",
    "        if x**2 + y**2 <= 1.0:\n",
    "            n += 1\n",
    "        d += 1\n",
    "        simulations += 1\n",
    "\n",
    "        ratio = 4 * n / d\n",
    "\n",
    "        # Check convergence\n",
    "        if simulations % 100 == 0:\n",
    "            percentage_difference = abs(ratio - pi) / pi * 100\n",
    "            if percentage_difference <= convergence_criterion:\n",
    "                print(f\"Convergence reached at {simulations} simulations with Pi ≈ {ratio}\")\n",
    "                break\n",
    "\n",
    "    # Check draw limit\n",
    "    if simulations >= draw_limit:\n",
    "        print(f\"Draw limit exceeded ({draw_limit} draws). Pi estimate: {ratio}\")\n",
    "        print(f\"Percentage difference: {percentage_difference:.5f}%\")\n",
    "\n",
    "# Get user input for convergence criterion and draw limit\n",
    "convergence_criterion = float(input(\"Enter convergence criterion (% difference): \"))\n",
    "draw_limit = int(input(\"Enter draw limit: \"))\n",
    "\n",
    "# Run the Monte Carlo simulation\n",
    "monte_carlo_pi(convergence_criterion, draw_limit)"
   ]
  },
  {
   "cell_type": "markdown",
   "metadata": {},
   "source": [
    "## Plot the first 10 $\\pi$ estimation"
   ]
  },
  {
   "cell_type": "code",
   "execution_count": 11,
   "metadata": {
    "collapsed": false,
    "deletable": true,
    "editable": true,
    "jupyter": {
     "outputs_hidden": false
    }
   },
   "outputs": [
    {
     "data": {
      "text/plain": [
       "[<matplotlib.lines.Line2D at 0x7fb81e9f9bb0>]"
      ]
     },
     "execution_count": 11,
     "metadata": {},
     "output_type": "execute_result"
    },
    {
     "data": {
      "image/png": "[encoded data removed]",
      "text/plain": [
       "<Figure size 432x288 with 1 Axes>"
      ]
     },
     "metadata": {
      "needs_background": "light"
     },
     "output_type": "display_data"
    }
   ],
   "source": [
    "plt.plot(ratios[:10])"
   ]
  },
  {
   "cell_type": "code",
   "execution_count": 12,
   "metadata": {
    "collapsed": false,
    "deletable": true,
    "editable": true,
    "jupyter": {
     "outputs_hidden": false
    }
   },
   "outputs": [
    {
     "data": {
      "text/plain": [
       "5615"
      ]
     },
     "execution_count": 12,
     "metadata": {},
     "output_type": "execute_result"
    }
   ],
   "source": [
    "len(ratios)"
   ]
  },
  {
   "cell_type": "markdown",
   "metadata": {},
   "source": [
    "## Plot the first 500 $\\pi$ estimation with min and max values of the estimation"
   ]
  },
  {
   "cell_type": "code",
   "execution_count": 13,
   "metadata": {
    "collapsed": false,
    "deletable": true,
    "editable": true,
    "jupyter": {
     "outputs_hidden": false
    }
   },
   "outputs": [
    {
     "data": {
      "text/plain": [
       "(0.0, 3.6363636363636362)"
      ]
     },
     "execution_count": 13,
     "metadata": {},
     "output_type": "execute_result"
    },
    {
     "data": {
      "image/png": "[encoded data removed]",
      "text/plain": [
       "<Figure size 432x288 with 1 Axes>"
      ]
     },
     "metadata": {
      "needs_background": "light"
     },
     "output_type": "display_data"
    }
   ],
   "source": [
    "plt.plot(ratios[:500])\n",
    "plt.ylim(min(ratios), max(ratios))"
   ]
  },
  {
   "cell_type": "code",
   "execution_count": 14,
   "metadata": {
    "collapsed": false,
    "deletable": true,
    "editable": true,
    "jupyter": {
     "outputs_hidden": false
    }
   },
   "outputs": [
    {
     "data": {
      "text/plain": [
       "[0.0,\n",
       " 2.0,\n",
       " 2.6666666666666665,\n",
       " 3.0,\n",
       " 3.2,\n",
       " 3.3333333333333335,\n",
       " 3.4285714285714284,\n",
       " 3.5,\n",
       " 3.5555555555555554,\n",
       " 3.6]"
      ]
     },
     "execution_count": 14,
     "metadata": {},
     "output_type": "execute_result"
    }
   ],
   "source": [
    "ratios[:10]"
   ]
  },
  {
   "cell_type": "markdown",
   "metadata": {},
   "source": [
    "## Plot the entire $\\pi$ estimation "
   ]
  },
  {
   "cell_type": "code",
   "execution_count": 15,
   "metadata": {
    "collapsed": false,
    "deletable": true,
    "editable": true,
    "jupyter": {
     "outputs_hidden": false
    }
   },
   "outputs": [
    {
     "data": {
      "text/plain": [
       "[<matplotlib.lines.Line2D at 0x7fb81edaa460>]"
      ]
     },
     "execution_count": 15,
     "metadata": {},
     "output_type": "execute_result"
    },
    {
     "data": {
      "image/png": "[encoded data removed]",
      "text/plain": [
       "<Figure size 432x288 with 1 Axes>"
      ]
     },
     "metadata": {
      "needs_background": "light"
     },
     "output_type": "display_data"
    }
   ],
   "source": [
    "plt.plot(ratios)"
   ]
  },
  {
   "cell_type": "markdown",
   "metadata": {
    "deletable": true,
    "editable": true,
    "jupyter": {
     "outputs_hidden": false
    }
   },
   "source": [
    "## Getting User Input"
   ]
  },
  {
   "cell_type": "code",
   "execution_count": 17,
   "metadata": {},
   "outputs": [
    {
     "name": "stdin",
     "output_type": "stream",
     "text": [
      "enter 10\n"
     ]
    },
    {
     "data": {
      "text/plain": [
       "'10'"
      ]
     },
     "execution_count": 17,
     "metadata": {},
     "output_type": "execute_result"
    }
   ],
   "source": [
    "input('enter')"
   ]
  },
  {
   "cell_type": "code",
   "execution_count": 18,
   "metadata": {},
   "outputs": [
    {
     "name": "stdin",
     "output_type": "stream",
     "text": [
      "enter 100\n"
     ]
    }
   ],
   "source": [
    "x = input('enter')"
   ]
  },
  {
   "cell_type": "code",
   "execution_count": 19,
   "metadata": {},
   "outputs": [
    {
     "data": {
      "text/plain": [
       "'100'"
      ]
     },
     "execution_count": 19,
     "metadata": {},
     "output_type": "execute_result"
    }
   ],
   "source": [
    "x"
   ]
  },
  {
   "cell_type": "code",
   "execution_count": 20,
   "metadata": {},
   "outputs": [
    {
     "data": {
      "text/plain": [
       "str"
      ]
     },
     "execution_count": 20,
     "metadata": {},
     "output_type": "execute_result"
    }
   ],
   "source": [
    "type(x)"
   ]
  },
  {
   "cell_type": "code",
   "execution_count": 21,
   "metadata": {},
   "outputs": [
    {
     "data": {
      "text/plain": [
       "100"
      ]
     },
     "execution_count": 21,
     "metadata": {},
     "output_type": "execute_result"
    }
   ],
   "source": [
    "int(x)"
   ]
  },
  {
   "cell_type": "code",
   "execution_count": 22,
   "metadata": {},
   "outputs": [
    {
     "data": {
      "text/plain": [
       "100.0"
      ]
     },
     "execution_count": 22,
     "metadata": {},
     "output_type": "execute_result"
    }
   ],
   "source": [
    "float(x)"
   ]
  },
  {
   "cell_type": "code",
   "execution_count": 23,
   "metadata": {},
   "outputs": [
    {
     "data": {
      "text/plain": [
       "int"
      ]
     },
     "execution_count": 23,
     "metadata": {},
     "output_type": "execute_result"
    }
   ],
   "source": [
    "type(int(x))"
   ]
  },
  {
   "cell_type": "code",
   "execution_count": 24,
   "metadata": {},
   "outputs": [
    {
     "data": {
      "text/plain": [
       "float"
      ]
     },
     "execution_count": 24,
     "metadata": {},
     "output_type": "execute_result"
    }
   ],
   "source": [
    "type(float(x))"
   ]
  },
  {
   "cell_type": "code",
   "execution_count": 25,
   "metadata": {},
   "outputs": [],
   "source": [
    "xf = float(x)"
   ]
  },
  {
   "cell_type": "code",
   "execution_count": 26,
   "metadata": {},
   "outputs": [
    {
     "data": {
      "text/plain": [
       "100.0"
      ]
     },
     "execution_count": 26,
     "metadata": {},
     "output_type": "execute_result"
    }
   ],
   "source": [
    "xf"
   ]
  },
  {
   "cell_type": "code",
   "execution_count": null,
   "metadata": {},
   "outputs": [],
   "source": []
  }
 ],
 "metadata": {
  "kernelspec": {
   "display_name": "Python 3 (ipykernel)",
   "language": "python",
   "name": "python3"
  },
  "language_info": {
   "codemirror_mode": {
    "name": "ipython",
    "version": 3
   },
   "file_extension": ".py",
   "mimetype": "text/x-python",
   "name": "python",
   "nbconvert_exporter": "python",
   "pygments_lexer": "ipython3",
   "version": "3.11.5"
  }
 },
 "nbformat": 4,
 "nbformat_minor": 4
}
