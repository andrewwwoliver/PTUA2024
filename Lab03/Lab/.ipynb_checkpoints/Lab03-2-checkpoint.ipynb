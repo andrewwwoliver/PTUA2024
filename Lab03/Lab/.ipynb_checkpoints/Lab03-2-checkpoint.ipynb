{
 "cells": [
  {
   "cell_type": "code",
   "execution_count": null,
   "id": "d85c84ea-7f1c-44c0-a557-28dc098600ea",
   "metadata": {},
   "outputs": [],
   "source": [
    "import random\n",
    "import math\n",
    "import matplotlib.pyplot as plt\n",
    "pi = math.pi \n",
    "import numpy as np\n",
    "\n",
    "def monte_carlo_pi(convergence_criterion):\n",
    "    n = 0  # number of points falling in the unit circle\n",
    "    d = 0  # number of points falling in the unit square\n",
    "    simulations = 0  # counter for the number of simulations\n",
    "\n",
    "    while True:\n",
    "        x = random.random()\n",
    "        y = random.random()\n",
    "\n",
    "        if x**2 + y**2 <= 1.0:\n",
    "            n += 1\n",
    "        d += 1\n",
    "        simulations += 1\n",
    "\n",
    "        ratio = 4 * n / d\n",
    "\n",
    "        # Check convergence\n",
    "        if simulations % 100 == 0:\n",
    "            percentage_difference = abs(ratio - pi) / pi * 100\n",
    "            if percentage_difference <= convergence_criterion:\n",
    "                return simulations\n",
    "\n",
    "# Constants\n",
    "convergence_criteria = [0.01, 0.001, 0.0001, 0.00001]\n",
    "num_estimates_per_criterion = 10\n",
    "\n",
    "# Experiment\n",
    "for criterion in convergence_criteria:\n",
    "    draws_required = []\n",
    "    for _ in range(num_estimates_per_criterion):\n",
    "        draws = monte_carlo_pi(criterion)\n",
    "        draws_required.append(draws)\n",
    "\n",
    "    # Calculate statistics\n",
    "    avg_draws = np.mean(draws_required)\n",
    "    std_draws = np.std(draws_required)\n",
    "\n",
    "    print(f\"Convergence Criterion: {criterion}\")\n",
    "    print(f\"Estimated Pi values: {estimates}\")\n",
    "    print(f\"Average Number of Draws: {avg_draws}\")\n",
    "    print(f\"Standard Deviation of Draws: {std_draws}\")\n",
    "    print(\"\\n\")\n"
   ]
  },
  {
   "cell_type": "code",
   "execution_count": null,
   "id": "79c32282-b887-4c03-876a-b6442abe4ea0",
   "metadata": {},
   "outputs": [],
   "source": []
  }
 ],
 "metadata": {
  "kernelspec": {
   "display_name": "Python 3 (ipykernel)",
   "language": "python",
   "name": "python3"
  },
  "language_info": {
   "codemirror_mode": {
    "name": "ipython",
    "version": 3
   },
   "file_extension": ".py",
   "mimetype": "text/x-python",
   "name": "python",
   "nbconvert_exporter": "python",
   "pygments_lexer": "ipython3",
   "version": "3.11.5"
  }
 },
 "nbformat": 4,
 "nbformat_minor": 5
}
