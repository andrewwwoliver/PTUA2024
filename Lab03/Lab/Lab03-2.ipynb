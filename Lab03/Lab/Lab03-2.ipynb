{
 "cells": [
  {
   "cell_type": "markdown",
   "id": "1b5ab927-2e8a-4e7f-b135-e2f61545b222",
   "metadata": {},
   "source": [
    "# Simulating $\\pi$"
   ]
  },
  {
   "cell_type": "code",
   "execution_count": 3,
   "id": "d85c84ea-7f1c-44c0-a557-28dc098600ea",
   "metadata": {},
   "outputs": [
    {
     "name": "stdout",
     "output_type": "stream",
     "text": [
      "Convergence Criterion: 0.01\n",
      "Estimated Pi values: [3.14188679245283, 3.1416666666666666, 3.141875, 3.141840490797546, 3.1414851485148514, 3.1415028901734106, 3.1418181818181816, 3.1414583333333335, 3.1418181818181816, 3.1414218009478674]\n",
      "Average Number of Draws: 23480.0\n",
      "Standard Deviation of Draws: 21535.40340927005\n",
      "\n",
      "\n",
      "Convergence Criterion: 0.001\n",
      "Estimated Pi values: [3.1415851922164215, 3.1415666234459616, 3.1415873015873017, 3.141585297939484, 3.1415861440291706, 3.1416091954022987, 3.141566982635685, 3.1415873015873017, 3.141576763485477, 3.141590909090909]\n",
      "Average Number of Draws: 466870.0\n",
      "Standard Deviation of Draws: 746557.2115384059\n",
      "\n",
      "\n",
      "Convergence Criterion: 0.0001\n",
      "Estimated Pi values: [3.141595598349381, 3.141590538336052, 3.1415930485155683, 3.141592649310873, 3.1415956691819, 3.1415948963317386, 3.141592806679512, 3.1415950920245397, 3.1415942524803286, 3.1415957215950465]\n",
      "Average Number of Draws: 15214690.0\n",
      "Standard Deviation of Draws: 38344188.19793816\n",
      "\n",
      "\n",
      "Convergence Criterion: 1e-05\n",
      "Estimated Pi values: [3.1415925266903915, 3.1415927679724494, 3.1415928223305274, 3.1415924567836564, 3.1415928817291765, 3.1415929203539825, 3.1415929203539825, 3.1415928167458196, 3.1415927574037132, 3.141592394533571]\n",
      "Average Number of Draws: 2592510.0\n",
      "Standard Deviation of Draws: 3908371.828383272\n",
      "\n",
      "\n"
     ]
    }
   ],
   "source": [
    "import random\n",
    "import math\n",
    "import matplotlib.pyplot as plt\n",
    "pi = math.pi \n",
    "import numpy as np\n",
    "\n",
    "\n",
    "def monte_carlo_pi(convergence_criterion):\n",
    "    n = 0  # number of points falling in the unit circle\n",
    "    d = 0  # number of points falling in the unit square\n",
    "    simulations = 0  # counter for the number of simulations\n",
    "\n",
    "    while True:\n",
    "        x = random.random()\n",
    "        y = random.random()\n",
    "\n",
    "        if x**2 + y**2 <= 1.0:\n",
    "            n += 1\n",
    "        d += 1\n",
    "        simulations += 1\n",
    "\n",
    "        ratio = 4 * n / d\n",
    "\n",
    "        # Convergence\n",
    "        if simulations % 100 == 0:\n",
    "            percentage_difference = abs(ratio - pi) / pi * 100\n",
    "            if percentage_difference <= convergence_criterion:\n",
    "                return ratio, simulations\n",
    "\n",
    "# Constants\n",
    "convergence_criteria = [0.01, 0.001, 0.0001, 0.00001]\n",
    "num_estimates_per_criterion = 10\n",
    "\n",
    "# Experiment\n",
    "for criterion in convergence_criteria:\n",
    "    estimates = []\n",
    "    draws_required = []\n",
    "    for _ in range(num_estimates_per_criterion):\n",
    "        estimate, draws = monte_carlo_pi(criterion)\n",
    "        estimates.append(estimate)\n",
    "        draws_required.append(draws)\n",
    "\n",
    "    # Statistics\n",
    "    avg_draws = np.mean(draws_required)\n",
    "    std_draws = np.std(draws_required)\n",
    "\n",
    "    print(f\"Convergence Criterion: {criterion}\")\n",
    "    print(f\"Estimated Pi values: {estimates}\")\n",
    "    print(f\"Average Number of Draws: {avg_draws}\")\n",
    "    print(f\"Standard Deviation of Draws: {std_draws}\")\n",
    "    print(\"\\n\")\n"
   ]
  },
  {
   "cell_type": "code",
   "execution_count": null,
   "id": "79c32282-b887-4c03-876a-b6442abe4ea0",
   "metadata": {},
   "outputs": [],
   "source": []
  }
 ],
 "metadata": {
  "kernelspec": {
   "display_name": "Python 3 (ipykernel)",
   "language": "python",
   "name": "python3"
  },
  "language_info": {
   "codemirror_mode": {
    "name": "ipython",
    "version": 3
   },
   "file_extension": ".py",
   "mimetype": "text/x-python",
   "name": "python",
   "nbconvert_exporter": "python",
   "pygments_lexer": "ipython3",
   "version": "3.11.5"
  }
 },
 "nbformat": 4,
 "nbformat_minor": 5
}
